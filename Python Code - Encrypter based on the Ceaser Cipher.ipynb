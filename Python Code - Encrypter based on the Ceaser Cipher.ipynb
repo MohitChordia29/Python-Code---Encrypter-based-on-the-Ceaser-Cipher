{
 "cells": [
  {
   "cell_type": "markdown",
   "metadata": {},
   "source": [
    "## Python Encrypter based on the Ceaser Cipher"
   ]
  },
  {
   "cell_type": "markdown",
   "metadata": {},
   "source": [
    "### Problem Statement:\n",
    "\n",
    "Create and encrypter in python based on the ceaser cipher. It is a substitution cipher where each character of the original text is shifted a certain number characters in the alphabet. Write a function that would require 2 arguments – the input text to be encrypted and a key. For eg: Given the input text ‘hello’ and the key 3, the resulting encryted text would be ‘khoor’. Here you can see that every character in the string hello is shifted by 3 characters. ‘h’ has shifted to ‘k’, ‘e’ has shifted to ‘h’ and so on. If a key of 5 were used, the resulting string would be ‘mjqqt’. This function should be capable of ignoring any characters which are not alphabets. Th2 character ‘z’ entered b\n",
    "y the user for a key of 3 would result in ‘c’.\n",
    "\n",
    "Usage:<br>\n",
    "**encrypt(‘hello world!’, 3)**<br>\n",
    "**‘khoor zruog!’**\n",
    "\n",
    "Similarly create decrypter which can decode the encryted text when provided the input text and key\n",
    "\n",
    "Usage:<br>\n",
    "**decrypt(‘khoor zruog!’, 3)**<br>\n",
    "**‘hello world!’**\n",
    "\n",
    "For the sake of simplicity you can assume that input solely consists of lowercase alphabets, spaces and punctuation symbols. Numbers in the input text would also be ignored similar to symbols."
   ]
  },
  {
   "cell_type": "code",
   "execution_count": 1,
   "metadata": {},
   "outputs": [],
   "source": [
    "def my_encry(word):\n",
    "    my_str2=[]\n",
    "    for w in word:\n",
    "        if w==' ':\n",
    "            my_str2.append(' ')\n",
    "        else:\n",
    "            w=chr(ord(w)+3)\n",
    "            my_str2.append(w)\n",
    "            final=\"\".join(my_str2)\n",
    "    return final\n",
    "\n",
    "\n",
    "def my_decry(word):\n",
    "    my_str2=[]\n",
    "    for w in word:\n",
    "        if w==' ':\n",
    "            my_str2.append(' ')\n",
    "        else:\n",
    "            w=chr(ord(w)-3)\n",
    "            my_str2.append(w)\n",
    "            final=\"\".join(my_str2)\n",
    "    return final"
   ]
  },
  {
   "cell_type": "code",
   "execution_count": 2,
   "metadata": {},
   "outputs": [
    {
     "name": "stdout",
     "output_type": "stream",
     "text": [
      "Khoor Zruog\n",
      "Hello World\n"
     ]
    }
   ],
   "source": [
    "print(my_encry(\"Hello World\"))\n",
    "print(my_decry(\"Khoor Zruog\"))"
   ]
  }
 ],
 "metadata": {
  "kernelspec": {
   "display_name": "Python 3",
   "language": "python",
   "name": "python3"
  },
  "language_info": {
   "codemirror_mode": {
    "name": "ipython",
    "version": 3
   },
   "file_extension": ".py",
   "mimetype": "text/x-python",
   "name": "python",
   "nbconvert_exporter": "python",
   "pygments_lexer": "ipython3",
   "version": "3.7.4"
  }
 },
 "nbformat": 4,
 "nbformat_minor": 2
}
